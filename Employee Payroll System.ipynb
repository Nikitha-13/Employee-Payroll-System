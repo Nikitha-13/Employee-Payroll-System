{
 "cells": [
  {
   "cell_type": "code",
   "execution_count": null,
   "metadata": {},
   "outputs": [],
   "source": [
    "class Employee:\n",
    "    def __init__(self, name, emp_id, position, hourly_rate):\n",
    "        self.name = name\n",
    "        self.emp_id = emp_id\n",
    "        self.position = position\n",
    "        self.hourly_rate = hourly_rate\n",
    "\n",
    "    def calculate_salary(self, hours_worked):\n",
    "        return self.hourly_rate * hours_worked\n",
    "\n",
    "def add_employee():\n",
    "    name = input(\"Enter employee name: \")\n",
    "    emp_id = int(input(\"Enter employee ID: \"))\n",
    "    position = input((\"Enter employee position: \"))\n",
    "    hourly_rate = float(input(\"Enter employee hourly rate: \")) \n",
    "    return Employee(name , emp_id, position, hourly_rate)     \n",
    "\n",
    "def process_payroll(employees):\n",
    "    for emp in employees:\n",
    "        hours_worked = float(input(f\"Enter hours worked by {emp.name}: \"))\n",
    "        salary = emp.calculate_salary(hours_worked)\n",
    "        print(f\"Pay stub for {emp.name} is {salary}\")\n",
    "\n",
    "def main():\n",
    "    employees = []\n",
    "\n",
    "    while True:\n",
    "        print(\"\\nEmployee Payroll System Menu:\")\n",
    "        print(\"1. Add Employee\")\n",
    "        print(\"2. Process Payroll\")\n",
    "        print(\"3. Exit\")\n",
    "\n",
    "        choice = input(\"Enter your choice: \")\n",
    "\n",
    "        if choice == \"1\":\n",
    "            emp = add_employee()\n",
    "            employees.append(emp)\n",
    "            print(\"Employee added successfully!..\")\n",
    "        elif choice == \"2\":\n",
    "            if not employees:\n",
    "                print(\"No Employees added yet. Please add employees first!..\")\n",
    "            else:\n",
    "                process_payroll(employees)\n",
    "        elif choice == \"3\":\n",
    "            print(\"Exiting program!..\")\n",
    "            break\n",
    "        else:\n",
    "            print(\"Invalid choice. Please enter a valid option!..\")\n",
    "\n",
    "if __name__ == \"__main__\":\n",
    "    main()\n",
    "\n",
    "\n"
   ]
  }
 ],
 "metadata": {
  "kernelspec": {
   "display_name": "Python 3",
   "language": "python",
   "name": "python3"
  },
  "language_info": {
   "codemirror_mode": {
    "name": "ipython",
    "version": 3
   },
   "file_extension": ".py",
   "mimetype": "text/x-python",
   "name": "python",
   "nbconvert_exporter": "python",
   "pygments_lexer": "ipython3",
   "version": "3.7.8"
  }
 },
 "nbformat": 4,
 "nbformat_minor": 2
}
